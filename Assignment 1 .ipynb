{
 "cells": [
  {
   "cell_type": "code",
   "execution_count": 1,
   "metadata": {},
   "outputs": [
    {
     "name": "stderr",
     "output_type": "stream",
     "text": [
      "Using TensorFlow backend.\n"
     ]
    }
   ],
   "source": [
    "#Importing the Libraries and Packages\n",
    "from keras.models import Sequential\n",
    "from keras.layers import Convolution2D\n",
    "from keras.layers import MaxPooling2D\n",
    "from keras.layers import Flatten\n",
    "from keras.layers import Dense\n",
    "from PIL import Image"
   ]
  },
  {
   "cell_type": "code",
   "execution_count": 2,
   "metadata": {},
   "outputs": [],
   "source": [
    "import sys\n",
    "from PIL import Image\n",
    "sys.modules['Image'] = Image"
   ]
  },
  {
   "cell_type": "code",
   "execution_count": 3,
   "metadata": {},
   "outputs": [
    {
     "name": "stdout",
     "output_type": "stream",
     "text": [
      "C:\\Users\\Jarvis\\anaconda3\\envs\\virtual\\lib\\site-packages\\PIL\\Image.py\n"
     ]
    }
   ],
   "source": [
    "from PIL import Image\n",
    "print(Image.__file__)"
   ]
  },
  {
   "cell_type": "code",
   "execution_count": 4,
   "metadata": {},
   "outputs": [],
   "source": [
    "#Initialising the CNN\n",
    "#The first step in creating a Neural network is to initialise the network using the Sequential Class from keras.\n",
    "model = Sequential()"
   ]
  },
  {
   "cell_type": "code",
   "execution_count": 5,
   "metadata": {},
   "outputs": [
    {
     "name": "stdout",
     "output_type": "stream",
     "text": [
      "WARNING:tensorflow:From C:\\Users\\Jarvis\\anaconda3\\envs\\virtual\\lib\\site-packages\\tensorflow_core\\python\\ops\\resource_variable_ops.py:1630: calling BaseResourceVariable.__init__ (from tensorflow.python.ops.resource_variable_ops) with constraint is deprecated and will be removed in a future version.\n",
      "Instructions for updating:\n",
      "If using Keras pass *_constraint arguments to layers.\n"
     ]
    }
   ],
   "source": [
    "#Convolutional Layer\n",
    "model.add(Convolution2D(filters = 32, kernel_size = (3, 3),input_shape = (64, 64, 3),activation = 'relu'))\n",
    "\n",
    "#Arguments:\n",
    "\n",
    "#filters : Denotes the number of Feature detectors.\n",
    "#kernel_size : Denotes the shape of the feature detector. (3,3) denotes a 3 x 3 matrix.\n",
    "#input _shape : standardises the size of the input image\n",
    "#activation : Activation function to break the linearity\n"
   ]
  },
  {
   "cell_type": "code",
   "execution_count": 6,
   "metadata": {},
   "outputs": [
    {
     "name": "stdout",
     "output_type": "stream",
     "text": [
      "WARNING:tensorflow:From C:\\Users\\Jarvis\\anaconda3\\envs\\virtual\\lib\\site-packages\\keras\\backend\\tensorflow_backend.py:4070: The name tf.nn.max_pool is deprecated. Please use tf.nn.max_pool2d instead.\n",
      "\n"
     ]
    }
   ],
   "source": [
    "#Pooling Layer\n",
    "model.add(MaxPooling2D(pool_size = (2, 2)))\n",
    "\n",
    "#Arguments:\n",
    "#pool_size : the shape of the pooling window."
   ]
  },
  {
   "cell_type": "code",
   "execution_count": 7,
   "metadata": {},
   "outputs": [
    {
     "name": "stderr",
     "output_type": "stream",
     "text": [
      "C:\\Users\\Jarvis\\anaconda3\\envs\\virtual\\lib\\site-packages\\ipykernel_launcher.py:2: UserWarning: Update your `Conv2D` call to the Keras 2 API: `Conv2D(32, (3, 3), activation=\"relu\")`\n",
      "  \n"
     ]
    }
   ],
   "source": [
    "#Adding a second layer of Convolution and Pooling\n",
    "model.add(Convolution2D(32, 3, 3, activation = 'relu'))\n",
    "model.add(MaxPooling2D(pool_size = (2, 2)))"
   ]
  },
  {
   "cell_type": "code",
   "execution_count": 8,
   "metadata": {},
   "outputs": [],
   "source": [
    "#Flattening Layer\n",
    "model.add(Flatten())"
   ]
  },
  {
   "cell_type": "code",
   "execution_count": 9,
   "metadata": {},
   "outputs": [],
   "source": [
    "#Full-Connection Layer\n",
    "#Adding the Hidden layer\n",
    "\n",
    "model.add(Dense(units = 128, activation = 'relu'))\n",
    "\n",
    "#Adding the Output Layer\n",
    "model.add(Dense(units = 1, activation = 'sigmoid'))\n",
    "\n",
    "#Arguments:\n",
    "\n",
    "#units: Number of nodes in the layer.\n",
    "#activation : the activation function in each node."
   ]
  },
  {
   "cell_type": "code",
   "execution_count": 10,
   "metadata": {},
   "outputs": [
    {
     "name": "stdout",
     "output_type": "stream",
     "text": [
      "WARNING:tensorflow:From C:\\Users\\Jarvis\\anaconda3\\envs\\virtual\\lib\\site-packages\\tensorflow_core\\python\\ops\\nn_impl.py:183: where (from tensorflow.python.ops.array_ops) is deprecated and will be removed in a future version.\n",
      "Instructions for updating:\n",
      "Use tf.where in 2.0, which has the same broadcast rule as np.where\n"
     ]
    }
   ],
   "source": [
    "#Compiling the CNN\n",
    "model.compile(optimizer = 'adam',loss = 'binary_crossentropy',metrics = ['accuracy'])\n",
    "\n",
    "#Arguments:\n",
    "\n",
    "#Optimizer: the Optimizer  used to reduce the cost calculated by cross-entropy\n",
    "#Loss: the loss function used to calculate the error\n",
    "#Metrics: the metrics used to represent the efficiency of the model"
   ]
  },
  {
   "cell_type": "code",
   "execution_count": 11,
   "metadata": {},
   "outputs": [],
   "source": [
    "#Generating Image Data\n",
    "from keras.preprocessing.image import ImageDataGenerator\n",
    "train_datagen = ImageDataGenerator(rescale = 1./255,shear_range = 0.1, zoom_range = 0.2, horizontal_flip=True)\n",
    "test_datagen = ImageDataGenerator(rescale = 1./255)\n",
    "\n",
    "#Arguments:\n",
    "\n",
    "#rescale: Rescaling factor. Defaults to None. If None or 0, no rescaling is applied, otherwise we multiply the data by the value provided\n",
    "#shear_range: Shear Intensity. Shear angle in a counter-clockwise direction in degrees.\n",
    "#zoom_range: Range for random zooming of the image."
   ]
  },
  {
   "cell_type": "code",
   "execution_count": 12,
   "metadata": {},
   "outputs": [
    {
     "name": "stdout",
     "output_type": "stream",
     "text": [
      "Found 30 images belonging to 2 classes.\n",
      "Found 10 images belonging to 2 classes.\n"
     ]
    }
   ],
   "source": [
    "#This function lets the classifier directly identify the labels from the name of the directories the image lies in.\n",
    "\n",
    "training_set = train_datagen.flow_from_directory('C://Users//Jarvis//Desktop//Dataset//Training Set',target_size = (64, 64), batch_size = 32,class_mode = 'binary')\n",
    "test_set = test_datagen.flow_from_directory('C://Users//Jarvis//Desktop//Dataset//Test Set',target_size = (64, 64),batch_size = 32,class_mode = 'binary')"
   ]
  },
  {
   "cell_type": "code",
   "execution_count": 13,
   "metadata": {},
   "outputs": [],
   "source": [
    "#Arguments:\n",
    "\n",
    "#directory: Location of the training_set or test_set\n",
    "#target_size : The dimensions to which all images found will be resized.Same as input size.\n",
    "#Batch_size : Size of the batches of data (default: 32).\n",
    "#Class_mode : Determines the type of label arrays that are returned.One of “categorical”, “binary”, “sparse”, “input”, or None."
   ]
  },
  {
   "cell_type": "code",
   "execution_count": 41,
   "metadata": {},
   "outputs": [],
   "source": [
    "from PIL import Image"
   ]
  },
  {
   "cell_type": "code",
   "execution_count": 14,
   "metadata": {},
   "outputs": [
    {
     "name": "stderr",
     "output_type": "stream",
     "text": [
      "C:\\Users\\Jarvis\\anaconda3\\envs\\virtual\\lib\\site-packages\\ipykernel_launcher.py:2: UserWarning: The semantics of the Keras 2 argument `steps_per_epoch` is not the same as the Keras 1 argument `samples_per_epoch`. `steps_per_epoch` is the number of batches to draw from the generator at each epoch. Basically steps_per_epoch = samples_per_epoch/batch_size. Similarly `nb_val_samples`->`validation_steps` and `val_samples`->`steps` arguments have changed. Update your method calls accordingly.\n",
      "  \n",
      "C:\\Users\\Jarvis\\anaconda3\\envs\\virtual\\lib\\site-packages\\ipykernel_launcher.py:2: UserWarning: Update your `fit_generator` call to the Keras 2 API: `fit_generator(<keras.pre..., validation_data=<keras.pre..., steps_per_epoch=62, epochs=15, validation_steps=200)`\n",
      "  \n"
     ]
    },
    {
     "name": "stdout",
     "output_type": "stream",
     "text": [
      "WARNING:tensorflow:From C:\\Users\\Jarvis\\anaconda3\\envs\\virtual\\lib\\site-packages\\keras\\backend\\tensorflow_backend.py:422: The name tf.global_variables is deprecated. Please use tf.compat.v1.global_variables instead.\n",
      "\n",
      "Epoch 1/15\n",
      "62/62 [==============================] - 94s 2s/step - loss: 0.0920 - accuracy: 0.9565 - val_loss: 0.0012 - val_accuracy: 1.0000\n",
      "Epoch 2/15\n",
      "62/62 [==============================] - 90s 1s/step - loss: 0.0023 - accuracy: 1.0000 - val_loss: 2.5934e-04 - val_accuracy: 1.0000\n",
      "Epoch 3/15\n",
      "62/62 [==============================] - 83s 1s/step - loss: 6.8593e-04 - accuracy: 1.0000 - val_loss: 4.9169e-04 - val_accuracy: 1.0000\n",
      "Epoch 4/15\n",
      "62/62 [==============================] - 81s 1s/step - loss: 2.7366e-04 - accuracy: 1.0000 - val_loss: 0.0020 - val_accuracy: 1.0000\n",
      "Epoch 5/15\n",
      "62/62 [==============================] - 82s 1s/step - loss: 1.6233e-04 - accuracy: 1.0000 - val_loss: 0.0054 - val_accuracy: 1.0000\n",
      "Epoch 6/15\n",
      "62/62 [==============================] - 80s 1s/step - loss: 7.3004e-05 - accuracy: 1.0000 - val_loss: 0.0122 - val_accuracy: 1.0000\n",
      "Epoch 7/15\n",
      "62/62 [==============================] - 77s 1s/step - loss: 5.7541e-05 - accuracy: 1.0000 - val_loss: 0.0040 - val_accuracy: 1.0000\n",
      "Epoch 8/15\n",
      "62/62 [==============================] - 97s 2s/step - loss: 4.3748e-05 - accuracy: 1.0000 - val_loss: 0.0540 - val_accuracy: 1.0000\n",
      "Epoch 9/15\n",
      "62/62 [==============================] - 81s 1s/step - loss: 2.2375e-05 - accuracy: 1.0000 - val_loss: 0.0169 - val_accuracy: 1.0000\n",
      "Epoch 10/15\n",
      "62/62 [==============================] - 89s 1s/step - loss: 1.3967e-05 - accuracy: 1.0000 - val_loss: 0.0261 - val_accuracy: 1.0000\n",
      "Epoch 11/15\n",
      "62/62 [==============================] - 75s 1s/step - loss: 1.1962e-05 - accuracy: 1.0000 - val_loss: 0.0361 - val_accuracy: 1.0000\n",
      "Epoch 12/15\n",
      "62/62 [==============================] - 75s 1s/step - loss: 8.5513e-06 - accuracy: 1.0000 - val_loss: 0.0295 - val_accuracy: 1.0000\n",
      "Epoch 13/15\n",
      "62/62 [==============================] - 77s 1s/step - loss: 1.0240e-05 - accuracy: 1.0000 - val_loss: 0.0463 - val_accuracy: 1.0000\n",
      "Epoch 14/15\n",
      "62/62 [==============================] - 76s 1s/step - loss: 6.6285e-06 - accuracy: 1.0000 - val_loss: 0.0576 - val_accuracy: 1.0000\n",
      "Epoch 15/15\n",
      "62/62 [==============================] - 76s 1s/step - loss: 5.8060e-06 - accuracy: 1.0000 - val_loss: 0.1245 - val_accuracy: 0.9000\n"
     ]
    },
    {
     "data": {
      "text/plain": [
       "<keras.callbacks.callbacks.History at 0x137fac71588>"
      ]
     },
     "execution_count": 14,
     "metadata": {},
     "output_type": "execute_result"
    }
   ],
   "source": [
    "#Training and Evaluating the model\n",
    "model.fit_generator(training_set,samples_per_epoch = 2000,nb_epoch = 15,validation_data = test_set,nb_val_samples = 200)"
   ]
  },
  {
   "cell_type": "code",
   "execution_count": 19,
   "metadata": {},
   "outputs": [],
   "source": [
    "#Arguments:\n",
    "\n",
    "#generator : A generator sequence used to train the neural network(Training_set).\n",
    "#Samples_per_epoch : Total number of steps (batches of samples) to yield from generator before declaring one epoch finished and starting the next epoch. It should typically be equal to the number of samples of your dataset divided by the batch size.\n",
    "#Nb_epoch : Total number of epochs. One complete cycle of predictions of a neural network is called an epoch.\n",
    "#Validation_data :  A generator sequence used to test and evaluate the predictions of the  neural network(Test_set).\n",
    "#Nb_val_samples :Total number of steps (batches of samples) to yield from validation_data generator before stopping at the end of every epoch."
   ]
  },
  {
   "cell_type": "code",
   "execution_count": 21,
   "metadata": {},
   "outputs": [],
   "source": [
    "#The above function trains the neural network using the training set and evaluates its performance on the test set.\n",
    "#The functions returns two metrics for each epoch ‘acc’ and ‘val_acc’ which are the accuracy of predictions obtained \n",
    "#in the training set and accuracy attained in the test set respectively."
   ]
  },
  {
   "cell_type": "code",
   "execution_count": null,
   "metadata": {},
   "outputs": [],
   "source": []
  }
 ],
 "metadata": {
  "kernelspec": {
   "display_name": "Python 3",
   "language": "python",
   "name": "python3"
  },
  "language_info": {
   "codemirror_mode": {
    "name": "ipython",
    "version": 3
   },
   "file_extension": ".py",
   "mimetype": "text/x-python",
   "name": "python",
   "nbconvert_exporter": "python",
   "pygments_lexer": "ipython3",
   "version": "3.6.10"
  }
 },
 "nbformat": 4,
 "nbformat_minor": 4
}
