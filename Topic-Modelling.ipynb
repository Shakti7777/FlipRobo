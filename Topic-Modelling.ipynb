{
 "cells": [
  {
   "cell_type": "code",
   "execution_count": 1,
   "metadata": {},
   "outputs": [],
   "source": [
    "# download news group data set from sklearn\n",
    "from sklearn.datasets import fetch_20newsgroups"
   ]
  },
  {
   "cell_type": "code",
   "execution_count": 2,
   "metadata": {},
   "outputs": [
    {
     "name": "stderr",
     "output_type": "stream",
     "text": [
      "Downloading 20news dataset. This may take a few minutes.\n",
      "Downloading dataset from https://ndownloader.figshare.com/files/5975967 (14 MB)\n"
     ]
    }
   ],
   "source": [
    "#assign train and test data\n",
    "ng_train = fetch_20newsgroups(subset = 'train',shuffle=True)\n",
    "ng_test   = fetch_20newsgroups(subset = 'test',shuffle=True)"
   ]
  },
  {
   "cell_type": "code",
   "execution_count": 3,
   "metadata": {
    "scrolled": true
   },
   "outputs": [
    {
     "name": "stdout",
     "output_type": "stream",
     "text": [
      "['alt.atheism', 'comp.graphics', 'comp.os.ms-windows.misc', 'comp.sys.ibm.pc.hardware', 'comp.sys.mac.hardware', 'comp.windows.x', 'misc.forsale', 'rec.autos', 'rec.motorcycles', 'rec.sport.baseball', 'rec.sport.hockey', 'sci.crypt', 'sci.electronics', 'sci.med', 'sci.space', 'soc.religion.christian', 'talk.politics.guns', 'talk.politics.mideast', 'talk.politics.misc', 'talk.religion.misc']\n"
     ]
    }
   ],
   "source": [
    "print(list(ng_train.target_names))"
   ]
  },
  {
   "cell_type": "code",
   "execution_count": 4,
   "metadata": {},
   "outputs": [
    {
     "data": {
      "text/plain": [
       "[\"From: lerxst@wam.umd.edu (where's my thing)\\nSubject: WHAT car is this!?\\nNntp-Posting-Host: rac3.wam.umd.edu\\nOrganization: University of Maryland, College Park\\nLines: 15\\n\\n I was wondering if anyone out there could enlighten me on this car I saw\\nthe other day. It was a 2-door sports car, looked to be from the late 60s/\\nearly 70s. It was called a Bricklin. The doors were really small. In addition,\\nthe front bumper was separate from the rest of the body. This is \\nall I know. If anyone can tellme a model name, engine specs, years\\nof production, where this car is made, history, or whatever info you\\nhave on this funky looking car, please e-mail.\\n\\nThanks,\\n- IL\\n   ---- brought to you by your neighborhood Lerxst ----\\n\\n\\n\\n\\n\",\n",
       " \"From: guykuo@carson.u.washington.edu (Guy Kuo)\\nSubject: SI Clock Poll - Final Call\\nSummary: Final call for SI clock reports\\nKeywords: SI,acceleration,clock,upgrade\\nArticle-I.D.: shelley.1qvfo9INNc3s\\nOrganization: University of Washington\\nLines: 11\\nNNTP-Posting-Host: carson.u.washington.edu\\n\\nA fair number of brave souls who upgraded their SI clock oscillator have\\nshared their experiences for this poll. Please send a brief message detailing\\nyour experiences with the procedure. Top speed attained, CPU rated speed,\\nadd on cards and adapters, heat sinks, hour of usage per day, floppy disk\\nfunctionality with 800 and 1.4 m floppies are especially requested.\\n\\nI will be summarizing in the next two days, so please add to the network\\nknowledge base if you have done the clock upgrade and haven't answered this\\npoll. Thanks.\\n\\nGuy Kuo <guykuo@u.washington.edu>\\n\",\n",
       " 'From: twillis@ec.ecn.purdue.edu (Thomas E Willis)\\nSubject: PB questions...\\nOrganization: Purdue University Engineering Computer Network\\nDistribution: usa\\nLines: 36\\n\\nwell folks, my mac plus finally gave up the ghost this weekend after\\nstarting life as a 512k way back in 1985.  sooo, i\\'m in the market for a\\nnew machine a bit sooner than i intended to be...\\n\\ni\\'m looking into picking up a powerbook 160 or maybe 180 and have a bunch\\nof questions that (hopefully) somebody can answer:\\n\\n* does anybody know any dirt on when the next round of powerbook\\nintroductions are expected?  i\\'d heard the 185c was supposed to make an\\nappearence \"this summer\" but haven\\'t heard anymore on it - and since i\\ndon\\'t have access to macleak, i was wondering if anybody out there had\\nmore info...\\n\\n* has anybody heard rumors about price drops to the powerbook line like the\\nones the duo\\'s just went through recently?\\n\\n* what\\'s the impression of the display on the 180?  i could probably swing\\na 180 if i got the 80Mb disk rather than the 120, but i don\\'t really have\\na feel for how much \"better\" the display is (yea, it looks great in the\\nstore, but is that all \"wow\" or is it really that good?).  could i solicit\\nsome opinions of people who use the 160 and 180 day-to-day on if its worth\\ntaking the disk size and money hit to get the active display?  (i realize\\nthis is a real subjective question, but i\\'ve only played around with the\\nmachines in a computer store breifly and figured the opinions of somebody\\nwho actually uses the machine daily might prove helpful).\\n\\n* how well does hellcats perform?  ;)\\n\\nthanks a bunch in advance for any info - if you could email, i\\'ll post a\\nsummary (news reading time is at a premium with finals just around the\\ncorner... :( )\\n--\\nTom Willis  \\\\  twillis@ecn.purdue.edu    \\\\    Purdue Electrical Engineering\\n---------------------------------------------------------------------------\\n\"Convictions are more dangerous enemies of truth than lies.\"  - F. W.\\nNietzsche\\n']"
      ]
     },
     "execution_count": 4,
     "metadata": {},
     "output_type": "execute_result"
    }
   ],
   "source": [
    "#sample news\n",
    "ng_train.data[:3]"
   ]
  },
  {
   "cell_type": "code",
   "execution_count": 5,
   "metadata": {},
   "outputs": [
    {
     "name": "stdout",
     "output_type": "stream",
     "text": [
      "(11314,) (11314,)\n"
     ]
    }
   ],
   "source": [
    "#shape of the subsets\n",
    "print(ng_train.filenames.shape,ng_train.target.shape)"
   ]
  },
  {
   "cell_type": "code",
   "execution_count": 6,
   "metadata": {},
   "outputs": [],
   "source": [
    "#Data Preprocessing\n",
    "#Tokenization\n",
    "'''\n",
    "Loading gensim and nltk libraries\n",
    "'''\n",
    "#!pip install gensim\n",
    "import gensim\n",
    "\n",
    "# Converts into tokens (Alternative to word_tokenize)\n",
    "from gensim.utils import simple_preprocess\n",
    "\n",
    "from gensim.parsing.preprocessing import STOPWORDS\n",
    "\n",
    "from nltk.stem import WordNetLemmatizer, SnowballStemmer\n",
    "#from nltk.stem import *\n",
    "import numpy as np\n",
    "np.random.seed(400)"
   ]
  },
  {
   "cell_type": "code",
   "execution_count": 7,
   "metadata": {},
   "outputs": [],
   "source": [
    "import nltk\n",
    "#nltk.download('wordnet')"
   ]
  },
  {
   "cell_type": "code",
   "execution_count": 8,
   "metadata": {},
   "outputs": [
    {
     "data": {
      "text/plain": [
       "'run'"
      ]
     },
     "execution_count": 8,
     "metadata": {},
     "output_type": "execute_result"
    }
   ],
   "source": [
    "#testing the lemmatize statment. It should convert past or future tense into present tense\n",
    "WordNetLemmatizer().lemmatize('runs')"
   ]
  },
  {
   "cell_type": "code",
   "execution_count": 9,
   "metadata": {
    "scrolled": false
   },
   "outputs": [
    {
     "data": {
      "text/html": [
       "<div>\n",
       "<style scoped>\n",
       "    .dataframe tbody tr th:only-of-type {\n",
       "        vertical-align: middle;\n",
       "    }\n",
       "\n",
       "    .dataframe tbody tr th {\n",
       "        vertical-align: top;\n",
       "    }\n",
       "\n",
       "    .dataframe thead th {\n",
       "        text-align: right;\n",
       "    }\n",
       "</style>\n",
       "<table border=\"1\" class=\"dataframe\">\n",
       "  <thead>\n",
       "    <tr style=\"text-align: right;\">\n",
       "      <th></th>\n",
       "      <th>Original Words</th>\n",
       "      <th>Lemma</th>\n",
       "    </tr>\n",
       "  </thead>\n",
       "  <tbody>\n",
       "    <tr>\n",
       "      <th>0</th>\n",
       "      <td>caresses</td>\n",
       "      <td>caress</td>\n",
       "    </tr>\n",
       "    <tr>\n",
       "      <th>1</th>\n",
       "      <td>flies</td>\n",
       "      <td>fly</td>\n",
       "    </tr>\n",
       "    <tr>\n",
       "      <th>2</th>\n",
       "      <td>dies</td>\n",
       "      <td>die</td>\n",
       "    </tr>\n",
       "    <tr>\n",
       "      <th>3</th>\n",
       "      <td>mules</td>\n",
       "      <td>mules</td>\n",
       "    </tr>\n",
       "    <tr>\n",
       "      <th>4</th>\n",
       "      <td>denied</td>\n",
       "      <td>deny</td>\n",
       "    </tr>\n",
       "    <tr>\n",
       "      <th>5</th>\n",
       "      <td>died</td>\n",
       "      <td>die</td>\n",
       "    </tr>\n",
       "    <tr>\n",
       "      <th>6</th>\n",
       "      <td>agreed</td>\n",
       "      <td>agree</td>\n",
       "    </tr>\n",
       "    <tr>\n",
       "      <th>7</th>\n",
       "      <td>owned</td>\n",
       "      <td>own</td>\n",
       "    </tr>\n",
       "    <tr>\n",
       "      <th>8</th>\n",
       "      <td>humbled</td>\n",
       "      <td>humble</td>\n",
       "    </tr>\n",
       "    <tr>\n",
       "      <th>9</th>\n",
       "      <td>sized</td>\n",
       "      <td>size</td>\n",
       "    </tr>\n",
       "    <tr>\n",
       "      <th>10</th>\n",
       "      <td>meeting</td>\n",
       "      <td>meet</td>\n",
       "    </tr>\n",
       "    <tr>\n",
       "      <th>11</th>\n",
       "      <td>stating</td>\n",
       "      <td>state</td>\n",
       "    </tr>\n",
       "    <tr>\n",
       "      <th>12</th>\n",
       "      <td>siezing</td>\n",
       "      <td>siezing</td>\n",
       "    </tr>\n",
       "    <tr>\n",
       "      <th>13</th>\n",
       "      <td>itemization</td>\n",
       "      <td>itemization</td>\n",
       "    </tr>\n",
       "    <tr>\n",
       "      <th>14</th>\n",
       "      <td>sensational</td>\n",
       "      <td>sensational</td>\n",
       "    </tr>\n",
       "    <tr>\n",
       "      <th>15</th>\n",
       "      <td>traditional</td>\n",
       "      <td>traditional</td>\n",
       "    </tr>\n",
       "    <tr>\n",
       "      <th>16</th>\n",
       "      <td>reference</td>\n",
       "      <td>reference</td>\n",
       "    </tr>\n",
       "    <tr>\n",
       "      <th>17</th>\n",
       "      <td>colonizer</td>\n",
       "      <td>colonizer</td>\n",
       "    </tr>\n",
       "    <tr>\n",
       "      <th>18</th>\n",
       "      <td>plotted</td>\n",
       "      <td>plot</td>\n",
       "    </tr>\n",
       "  </tbody>\n",
       "</table>\n",
       "</div>"
      ],
      "text/plain": [
       "   Original Words        Lemma\n",
       "0        caresses       caress\n",
       "1           flies          fly\n",
       "2            dies          die\n",
       "3           mules        mules\n",
       "4          denied         deny\n",
       "5            died          die\n",
       "6          agreed        agree\n",
       "7           owned          own\n",
       "8         humbled       humble\n",
       "9           sized         size\n",
       "10        meeting         meet\n",
       "11        stating        state\n",
       "12        siezing      siezing\n",
       "13    itemization  itemization\n",
       "14    sensational  sensational\n",
       "15    traditional  traditional\n",
       "16      reference    reference\n",
       "17      colonizer    colonizer\n",
       "18        plotted         plot"
      ]
     },
     "execution_count": 9,
     "metadata": {},
     "output_type": "execute_result"
    }
   ],
   "source": [
    "#testing the stemming part before preprocessing. This should be changing any plural into singular word\n",
    "import pandas as pd\n",
    "stemmer = SnowballStemmer(\"english\")\n",
    "original_words=['caresses', 'flies', 'dies', 'mules', 'denied','died', 'agreed', 'owned', \n",
    "           'humbled', 'sized','meeting', 'stating', 'siezing', 'itemization','sensational', \n",
    "           'traditional', 'reference', 'colonizer','plotted']\n",
    "\n",
    "singles= [WordNetLemmatizer().lemmatize(plural,pos='v') for plural in original_words]\n",
    "\n",
    "pd.DataFrame(data={'Original Words':original_words, 'Lemma':singles})\n",
    "\n",
    "#Stemma is not performing well \n",
    "#singles= [stemmer.stem(plural) for plural in original_words]\n",
    "#singles2= [stemmer.stem(plural2) for plural2 in singles]\n",
    "#stemma = pd.DataFrame(data={'Lemma':singles, 'Stemmed':singles2})\n",
    "\n"
   ]
  },
  {
   "cell_type": "code",
   "execution_count": 10,
   "metadata": {},
   "outputs": [],
   "source": [
    "# writing function for the entire dataset\n",
    "def lemmatize_stemming(text):\n",
    "    return stemmer.stem(WordNetLemmatizer().lemmatize(text,pos='v'))\n",
    "\n",
    "#Tokenize and Lemmatize\n",
    "def preprocess(text):\n",
    "    result=[]\n",
    "    for token in gensim.utils.simple_preprocess(text):\n",
    "        if token not in gensim.parsing.preprocessing.STOPWORDS and len(token)>3:\n",
    "            result.append(lemmatize_stemming(token))\n",
    "            \n",
    "    return result\n",
    "        "
   ]
  },
  {
   "cell_type": "code",
   "execution_count": 11,
   "metadata": {},
   "outputs": [
    {
     "name": "stdout",
     "output_type": "stream",
     "text": [
      "Original Document: \n",
      "['This', 'disk', 'has', 'failed', 'many', 'times.', 'I', 'would', 'like', 'to', 'get', 'it', 'replaced.']\n",
      "\n",
      "\n",
      "Tokenized and lemmatized document: \n",
      "['disk', 'fail', 'time', 'like', 'replac']\n"
     ]
    }
   ],
   "source": [
    "#preview a document before preprocessing\n",
    "\n",
    "#document_num = 50\n",
    "doc_sample = 'This disk has failed many times. I would like to get it replaced.'\n",
    "\n",
    "print(\"Original Document: \")\n",
    "words=[]\n",
    "for word in doc_sample.split(' '):\n",
    "    words.append(word)\n",
    "print(words)\n",
    "print(\"\\n\\nTokenized and lemmatized document: \")\n",
    "print(preprocess(doc_sample))"
   ]
  },
  {
   "cell_type": "code",
   "execution_count": 12,
   "metadata": {},
   "outputs": [],
   "source": [
    "processed_docs = []\n",
    "\n",
    "for doc in ng_train.data:\n",
    "    processed_docs.append(preprocess(doc))"
   ]
  },
  {
   "cell_type": "code",
   "execution_count": 13,
   "metadata": {},
   "outputs": [
    {
     "data": {
      "text/plain": [
       "11314"
      ]
     },
     "execution_count": 13,
     "metadata": {},
     "output_type": "execute_result"
    }
   ],
   "source": [
    "len(processed_docs)"
   ]
  },
  {
   "cell_type": "code",
   "execution_count": 14,
   "metadata": {
    "scrolled": false
   },
   "outputs": [
    {
     "name": "stdout",
     "output_type": "stream",
     "text": [
      "[['lerxst', 'thing', 'subject', 'nntp', 'post', 'host', 'organ', 'univers', 'maryland', 'colleg', 'park', 'line', 'wonder', 'enlighten', 'door', 'sport', 'look', 'late', 'earli', 'call', 'bricklin', 'door', 'small', 'addit', 'bumper', 'separ', 'rest', 'bodi', 'know', 'tellm', 'model', 'engin', 'spec', 'year', 'product', 'histori', 'info', 'funki', 'look', 'mail', 'thank', 'bring', 'neighborhood', 'lerxst'], ['guykuo', 'carson', 'washington', 'subject', 'clock', 'poll', 'final', 'summari', 'final', 'clock', 'report', 'keyword', 'acceler', 'clock', 'upgrad', 'articl', 'shelley', 'qvfo', 'innc', 'organ', 'univers', 'washington', 'line', 'nntp', 'post', 'host', 'carson', 'washington', 'fair', 'number', 'brave', 'soul', 'upgrad', 'clock', 'oscil', 'share', 'experi', 'poll', 'send', 'brief', 'messag', 'detail', 'experi', 'procedur', 'speed', 'attain', 'rat', 'speed', 'card', 'adapt', 'heat', 'sink', 'hour', 'usag', 'floppi', 'disk', 'function', 'floppi', 'especi', 'request', 'summar', 'day', 'network', 'knowledg', 'base', 'clock', 'upgrad', 'haven', 'answer', 'poll', 'thank', 'guykuo', 'washington']]\n"
     ]
    }
   ],
   "source": [
    "print(processed_docs[:2])"
   ]
  },
  {
   "cell_type": "code",
   "execution_count": 15,
   "metadata": {},
   "outputs": [],
   "source": [
    "#bag of words on the data set\n",
    "dictionary = gensim.corpora.Dictionary(processed_docs)"
   ]
  },
  {
   "cell_type": "code",
   "execution_count": 16,
   "metadata": {},
   "outputs": [
    {
     "name": "stdout",
     "output_type": "stream",
     "text": [
      "Dictionary(61411 unique tokens: ['addit', 'bodi', 'bricklin', 'bring', 'bumper']...)\n"
     ]
    }
   ],
   "source": [
    "print (dictionary)"
   ]
  },
  {
   "cell_type": "code",
   "execution_count": 17,
   "metadata": {},
   "outputs": [
    {
     "name": "stdout",
     "output_type": "stream",
     "text": [
      "0 addit\n",
      "1 bodi\n",
      "2 bricklin\n",
      "3 bring\n",
      "4 bumper\n",
      "5 call\n",
      "6 colleg\n",
      "7 door\n",
      "8 earli\n",
      "9 engin\n",
      "10 enlighten\n",
      "11 funki\n",
      "12 histori\n",
      "13 host\n",
      "14 info\n",
      "15 know\n",
      "16 late\n",
      "17 lerxst\n",
      "18 line\n",
      "19 look\n",
      "20 mail\n"
     ]
    }
   ],
   "source": [
    "#Lets see if dictionary created succesfully\n",
    "count=0\n",
    "for k,v in dictionary.iteritems():\n",
    "    print (k, v)\n",
    "    count +=1\n",
    "    if count >20:\n",
    "        break"
   ]
  },
  {
   "cell_type": "code",
   "execution_count": 18,
   "metadata": {},
   "outputs": [],
   "source": [
    "#remove rare and repeatative words\n",
    "dictionary.filter_extremes(no_below=15,no_above=0.1,keep_n=100000)"
   ]
  },
  {
   "cell_type": "code",
   "execution_count": 19,
   "metadata": {},
   "outputs": [
    {
     "name": "stdout",
     "output_type": "stream",
     "text": [
      "Dictionary(6535 unique tokens: ['addit', 'bodi', 'bring', 'bumper', 'call']...)\n"
     ]
    }
   ],
   "source": [
    "print (dictionary)"
   ]
  },
  {
   "cell_type": "code",
   "execution_count": 20,
   "metadata": {},
   "outputs": [],
   "source": [
    "#Create the Bag-of-words model for each document i.e for each document we create a dictionary reporting how many\n",
    "#words and how many times those words appear. Save this to 'bow_corpus'\n",
    "bow_corpus = [dictionary.doc2bow(doc) for doc in processed_docs]"
   ]
  },
  {
   "cell_type": "code",
   "execution_count": 21,
   "metadata": {},
   "outputs": [
    {
     "data": {
      "text/plain": [
       "[(0, 1),\n",
       " (1, 1),\n",
       " (2, 1),\n",
       " (3, 1),\n",
       " (4, 1),\n",
       " (5, 1),\n",
       " (6, 2),\n",
       " (7, 1),\n",
       " (8, 1),\n",
       " (9, 1),\n",
       " (10, 1),\n",
       " (11, 1),\n",
       " (12, 1),\n",
       " (13, 1),\n",
       " (14, 1),\n",
       " (15, 1),\n",
       " (16, 1),\n",
       " (17, 1),\n",
       " (18, 1),\n",
       " (19, 1),\n",
       " (20, 1),\n",
       " (21, 1),\n",
       " (22, 1),\n",
       " (23, 1)]"
      ]
     },
     "execution_count": 21,
     "metadata": {},
     "output_type": "execute_result"
    }
   ],
   "source": [
    "bow_corpus[0]"
   ]
  },
  {
   "cell_type": "code",
   "execution_count": 22,
   "metadata": {
    "scrolled": true
   },
   "outputs": [
    {
     "name": "stdout",
     "output_type": "stream",
     "text": [
      "Word 14 (\"model\") appears 1 time.\n",
      "Word 33 (\"clock\") appears 1 time.\n",
      "Word 46 (\"keyword\") appears 1 time.\n",
      "Word 63 (\"summari\") appears 1 time.\n",
      "Word 83 (\"email\") appears 1 time.\n",
      "Word 101 (\"opinion\") appears 1 time.\n",
      "Word 130 (\"worth\") appears 1 time.\n",
      "Word 146 (\"nice\") appears 1 time.\n",
      "Word 227 (\"hard\") appears 1 time.\n",
      "Word 385 (\"owner\") appears 1 time.\n",
      "Word 399 (\"axi\") appears 1 time.\n",
      "Word 400 (\"beemer\") appears 1 time.\n",
      "Word 401 (\"bike\") appears 2 time.\n",
      "Word 402 (\"brown\") appears 1 time.\n",
      "Word 403 (\"ducati\") appears 2 time.\n",
      "Word 404 (\"expir\") appears 1 time.\n",
      "Word 405 (\"fade\") appears 1 time.\n",
      "Word 406 (\"leak\") appears 2 time.\n",
      "Word 407 (\"lonestar\") appears 2 time.\n",
      "Word 408 (\"motor\") appears 1 time.\n",
      "Word 409 (\"orang\") appears 1 time.\n",
      "Word 410 (\"paint\") appears 1 time.\n",
      "Word 411 (\"pop\") appears 1 time.\n",
      "Word 412 (\"recommend\") appears 1 time.\n",
      "Word 413 (\"richardson\") appears 2 time.\n",
      "Word 414 (\"run\") appears 1 time.\n",
      "Word 415 (\"sell\") appears 1 time.\n",
      "Word 416 (\"shop\") appears 1 time.\n",
      "Word 417 (\"stabl\") appears 1 time.\n",
      "Word 418 (\"tran\") appears 1 time.\n"
     ]
    }
   ],
   "source": [
    "#preview \n",
    "document_num = 10\n",
    "bow_doc_x = bow_corpus[document_num]\n",
    "\n",
    "for i in range(len(bow_doc_x)):\n",
    "    print(\"Word {} (\\\"{}\\\") appears {} time.\".format(bow_doc_x[i][0], \n",
    "                                                     dictionary[bow_doc_x[i][0]],\n",
    "                                                     bow_doc_x[i][1]))"
   ]
  },
  {
   "cell_type": "code",
   "execution_count": 23,
   "metadata": {},
   "outputs": [],
   "source": [
    "lda_model =  gensim.models.LdaMulticore(bow_corpus, \n",
    "                                   num_topics = 10, \n",
    "                                   id2word = dictionary,                                    \n",
    "                                   passes = 10,\n",
    "                                   workers = 2)"
   ]
  },
  {
   "cell_type": "code",
   "execution_count": 24,
   "metadata": {
    "scrolled": true
   },
   "outputs": [
    {
     "name": "stdout",
     "output_type": "stream",
     "text": [
      "Topic: 0 \n",
      "Words: 0.010*\"bike\" + 0.006*\"game\" + 0.005*\"run\" + 0.005*\"team\" + 0.005*\"virginia\" + 0.004*\"motorcycl\" + 0.004*\"pitch\" + 0.004*\"player\" + 0.004*\"play\" + 0.004*\"ride\"\n",
      "\n",
      "\n",
      "Topic: 1 \n",
      "Words: 0.010*\"armenian\" + 0.008*\"israel\" + 0.007*\"isra\" + 0.007*\"kill\" + 0.006*\"turkish\" + 0.005*\"weapon\" + 0.005*\"jew\" + 0.005*\"govern\" + 0.005*\"arab\" + 0.004*\"gun\"\n",
      "\n",
      "\n",
      "Topic: 2 \n",
      "Words: 0.020*\"game\" + 0.017*\"team\" + 0.013*\"play\" + 0.010*\"player\" + 0.010*\"hockey\" + 0.006*\"season\" + 0.006*\"canada\" + 0.005*\"leagu\" + 0.005*\"score\" + 0.005*\"andrew\"\n",
      "\n",
      "\n",
      "Topic: 3 \n",
      "Words: 0.014*\"window\" + 0.013*\"card\" + 0.009*\"driver\" + 0.006*\"sale\" + 0.006*\"video\" + 0.006*\"monitor\" + 0.006*\"speed\" + 0.006*\"appl\" + 0.005*\"price\" + 0.005*\"softwar\"\n",
      "\n",
      "\n",
      "Topic: 4 \n",
      "Words: 0.016*\"file\" + 0.011*\"program\" + 0.010*\"window\" + 0.007*\"imag\" + 0.006*\"avail\" + 0.006*\"data\" + 0.005*\"version\" + 0.005*\"server\" + 0.005*\"graphic\" + 0.005*\"applic\"\n",
      "\n",
      "\n",
      "Topic: 5 \n",
      "Words: 0.018*\"space\" + 0.013*\"nasa\" + 0.007*\"scienc\" + 0.007*\"orbit\" + 0.006*\"launch\" + 0.005*\"earth\" + 0.004*\"moon\" + 0.004*\"research\" + 0.004*\"satellit\" + 0.004*\"mission\"\n",
      "\n",
      "\n",
      "Topic: 6 \n",
      "Words: 0.038*\"drive\" + 0.016*\"scsi\" + 0.012*\"disk\" + 0.011*\"control\" + 0.010*\"hard\" + 0.007*\"washington\" + 0.006*\"power\" + 0.005*\"car\" + 0.005*\"uiuc\" + 0.005*\"cabl\"\n",
      "\n",
      "\n",
      "Topic: 7 \n",
      "Words: 0.013*\"christian\" + 0.009*\"jesus\" + 0.007*\"exist\" + 0.005*\"bibl\" + 0.005*\"moral\" + 0.005*\"religion\" + 0.005*\"word\" + 0.005*\"church\" + 0.005*\"life\" + 0.004*\"claim\"\n",
      "\n",
      "\n",
      "Topic: 8 \n",
      "Words: 0.011*\"govern\" + 0.008*\"encrypt\" + 0.006*\"clipper\" + 0.006*\"presid\" + 0.006*\"chip\" + 0.006*\"secur\" + 0.006*\"public\" + 0.005*\"clinton\" + 0.004*\"protect\" + 0.004*\"money\"\n",
      "\n",
      "\n",
      "Topic: 9 \n",
      "Words: 0.006*\"pitt\" + 0.006*\"food\" + 0.006*\"medic\" + 0.005*\"bank\" + 0.005*\"diseas\" + 0.005*\"gordon\" + 0.005*\"effect\" + 0.005*\"doctor\" + 0.004*\"caus\" + 0.004*\"health\"\n",
      "\n",
      "\n"
     ]
    }
   ],
   "source": [
    "for idx, topic in lda_model.print_topics():\n",
    "    print(\"Topic: {} \\nWords: {}\".format(idx, topic ))\n",
    "    print(\"\\n\")"
   ]
  },
  {
   "cell_type": "code",
   "execution_count": 25,
   "metadata": {},
   "outputs": [
    {
     "name": "stdout",
     "output_type": "stream",
     "text": [
      "Subject: help\n",
      "From: C..Doelle@p26.f3333.n106.z1.fidonet.org (C. Doelle)\n",
      "Lines: 13\n",
      "\n",
      "Hello All!\n",
      "\n",
      "    It is my understanding that all True-Type fonts in Windows are loaded in\n",
      "prior to starting Windows - this makes getting into Windows quite slow if you\n",
      "have hundreds of them as I do.  First off, am I correct in this thinking -\n",
      "secondly, if that is the case - can you get Windows to ignore them on boot and\n",
      "maybe make something like a PIF file to load them only when you enter the\n",
      "applications that need fonts?  Any ideas?\n",
      "\n",
      "\n",
      "Chris\n",
      "\n",
      " * Origin: chris.doelle.@f3333.n106.z1.fidonet.org (1:106/3333.26)\n",
      "\n"
     ]
    }
   ],
   "source": [
    "num = 100\n",
    "unseen_document = ng_test.data[num]\n",
    "print(unseen_document)"
   ]
  },
  {
   "cell_type": "code",
   "execution_count": 26,
   "metadata": {},
   "outputs": [
    {
     "name": "stdout",
     "output_type": "stream",
     "text": [
      "Score: 0.6123292446136475\t Topic: 0.014*\"window\" + 0.013*\"card\" + 0.009*\"driver\" + 0.006*\"sale\" + 0.006*\"video\" + 0.006*\"monitor\" + 0.006*\"speed\" + 0.006*\"appl\" + 0.005*\"price\" + 0.005*\"softwar\" + 0.005*\"memori\" + 0.004*\"version\" + 0.004*\"machin\" + 0.004*\"mous\" + 0.004*\"cwru\" + 0.004*\"color\" + 0.004*\"engin\" + 0.004*\"printer\" + 0.004*\"modem\" + 0.004*\"sell\" + 0.004*\"cleveland\" + 0.003*\"simm\" + 0.003*\"board\" + 0.003*\"port\" + 0.003*\"upgrad\" + 0.003*\"instal\" + 0.003*\"mode\" + 0.003*\"access\" + 0.003*\"sound\" + 0.003*\"offer\"\n",
      "Score: 0.3618493974208832\t Topic: 0.016*\"file\" + 0.011*\"program\" + 0.010*\"window\" + 0.007*\"imag\" + 0.006*\"avail\" + 0.006*\"data\" + 0.005*\"version\" + 0.005*\"server\" + 0.005*\"graphic\" + 0.005*\"applic\" + 0.005*\"sourc\" + 0.005*\"user\" + 0.005*\"list\" + 0.005*\"softwar\" + 0.005*\"code\" + 0.004*\"display\" + 0.004*\"send\" + 0.004*\"email\" + 0.004*\"wire\" + 0.004*\"manag\" + 0.003*\"messag\" + 0.003*\"current\" + 0.003*\"output\" + 0.003*\"widget\" + 0.003*\"function\" + 0.003*\"build\" + 0.003*\"format\" + 0.003*\"motif\" + 0.003*\"color\" + 0.003*\"internet\"\n"
     ]
    }
   ],
   "source": [
    "bow_vector = dictionary.doc2bow(preprocess(unseen_document))\n",
    "\n",
    "for index, score in sorted(lda_model[bow_vector]):\n",
    "    print(\"Score: {}\\t Topic: {}\".format(score, lda_model.print_topic(index, 30)))"
   ]
  },
  {
   "cell_type": "code",
   "execution_count": 27,
   "metadata": {},
   "outputs": [
    {
     "name": "stdout",
     "output_type": "stream",
     "text": [
      "Score: 0.3618205189704895\t Topic: 0.016*\"file\" + 0.011*\"program\" + 0.010*\"window\" + 0.007*\"imag\" + 0.006*\"avail\"\n",
      "Score: 0.6123580932617188\t Topic: 0.014*\"window\" + 0.013*\"card\" + 0.009*\"driver\" + 0.006*\"sale\" + 0.006*\"video\"\n"
     ]
    }
   ],
   "source": [
    "bow_vector = dictionary.doc2bow(preprocess(unseen_document))\n",
    "\n",
    "for index, score in sorted(lda_model[bow_vector], key=lambda x: x[1]):\n",
    "    print(\"Score: {}\\t Topic: {}\".format(score, lda_model.print_topic(index, 5)))"
   ]
  },
  {
   "cell_type": "code",
   "execution_count": 28,
   "metadata": {
    "scrolled": true
   },
   "outputs": [
    {
     "name": "stdout",
     "output_type": "stream",
     "text": [
      "5\n"
     ]
    }
   ],
   "source": [
    "print(ng_test.target[1])"
   ]
  },
  {
   "cell_type": "code",
   "execution_count": null,
   "metadata": {},
   "outputs": [],
   "source": []
  }
 ],
 "metadata": {
  "kernelspec": {
   "display_name": "Python 3",
   "language": "python",
   "name": "python3"
  },
  "language_info": {
   "codemirror_mode": {
    "name": "ipython",
    "version": 3
   },
   "file_extension": ".py",
   "mimetype": "text/x-python",
   "name": "python",
   "nbconvert_exporter": "python",
   "pygments_lexer": "ipython3",
   "version": "3.7.6"
  }
 },
 "nbformat": 4,
 "nbformat_minor": 2
}
