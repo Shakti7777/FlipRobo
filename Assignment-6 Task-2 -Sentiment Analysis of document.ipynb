{
 "cells": [
  {
   "cell_type": "markdown",
   "metadata": {},
   "source": [
    "# Importing required Libraries and Modules"
   ]
  },
  {
   "cell_type": "code",
   "execution_count": 1,
   "metadata": {},
   "outputs": [],
   "source": [
    "import string\n",
    "from collections import Counter\n",
    "import matplotlib.pyplot as plt\n",
    "from nltk.corpus import stopwords\n",
    "from nltk.stem import WordNetLemmatizer\n",
    "from nltk.tokenize import word_tokenize\n",
    "import nltk\n",
    "import warnings\n",
    "warnings.filterwarnings('ignore')"
   ]
  },
  {
   "cell_type": "markdown",
   "metadata": {},
   "source": [
    "# Importing a document"
   ]
  },
  {
   "cell_type": "markdown",
   "metadata": {},
   "source": [
    "# Tokenizing and cleaning the text"
   ]
  },
  {
   "cell_type": "code",
   "execution_count": 2,
   "metadata": {},
   "outputs": [],
   "source": [
    "text = open('read.txt', encoding=\"utf-8\").read()\n",
    "lower_case = text.lower()\n",
    "# str.maketrans removes any punctuations \n",
    "cleaned_text = lower_case.translate(str.maketrans('', '', string.punctuation))\n",
    "\n",
    "# Using word_tokenize to tokenize sentence into words\n",
    "tokenized_words = word_tokenize(cleaned_text, \"english\")\n"
   ]
  },
  {
   "cell_type": "markdown",
   "metadata": {},
   "source": [
    "# Removing Stop words"
   ]
  },
  {
   "cell_type": "code",
   "execution_count": 3,
   "metadata": {},
   "outputs": [],
   "source": [
    "# Removing Stop Words\n",
    "final_words = []\n",
    "\n",
    "for word in tokenized_words:\n",
    "    if word not in stopwords.words('english'):\n",
    "        final_words.append(word)"
   ]
  },
  {
   "cell_type": "code",
   "execution_count": 4,
   "metadata": {},
   "outputs": [],
   "source": [
    "# Lemmatization - From plural to single + Base form of a word (example better-> good)\n",
    "\n",
    "lemma_words = []\n",
    "\n",
    "for word in final_words:\n",
    "    word = WordNetLemmatizer().lemmatize(word)\n",
    "    lemma_words.append(word)"
   ]
  },
  {
   "cell_type": "markdown",
   "metadata": {},
   "source": [
    "# Emotions Listing"
   ]
  },
  {
   "cell_type": "code",
   "execution_count": 7,
   "metadata": {},
   "outputs": [
    {
     "name": "stdout",
     "output_type": "stream",
     "text": [
      "People emotions from the text \n",
      " [' happy', ' happy', ' attached', ' happy', ' attracted', ' alone', ' free', ' hated', ' happy', ' entitled', ' happy', ' loved', ' ignorant', ' hated', ' entitled'] \n",
      " \n",
      "\n",
      "Count of each emotion \n",
      " Counter({' happy': 5, ' hated': 2, ' entitled': 2, ' attached': 1, ' attracted': 1, ' alone': 1, ' free': 1, ' loved': 1, ' ignorant': 1})\n"
     ]
    }
   ],
   "source": [
    "emotion_list = []\n",
    "\n",
    "with open('emotions1.txt', 'r') as file:\n",
    "    for line in file:\n",
    "        clear_line = line.replace(\"\\n\", '').replace(\",\", '').replace(\"'\", '').strip()\n",
    "        word, emotion = clear_line.split(':')\n",
    "\n",
    "        if word in lemma_words:\n",
    "            emotion_list.append(emotion)\n",
    "            \n",
    "print(\"People emotions from the text \\n\", emotion_list, '\\n \\n')\n",
    "\n",
    "\n",
    "w = Counter(emotion_list)\n",
    "print(\"Count of each emotion \\n\", w)"
   ]
  },
  {
   "cell_type": "markdown",
   "metadata": {},
   "source": [
    "# Visualizing the Emotions Graph"
   ]
  },
  {
   "cell_type": "code",
   "execution_count": 8,
   "metadata": {},
   "outputs": [
    {
     "data": {
      "image/png": "[encoded data removed]",
      "text/plain": [
       "<Figure size 432x288 with 1 Axes>"
      ]
     },
     "metadata": {
      "needs_background": "light"
     },
     "output_type": "display_data"
    }
   ],
   "source": [
    "fig, ax1 = plt.subplots()\n",
    "ax1.bar(w.keys(), w.values())\n",
    "fig.autofmt_xdate()\n",
    "plt.savefig('graph.png')\n",
    "plt.show()"
   ]
  },
  {
   "cell_type": "code",
   "execution_count": null,
   "metadata": {},
   "outputs": [],
   "source": []
  }
 ],
 "metadata": {
  "kernelspec": {
   "display_name": "Python 3",
   "language": "python",
   "name": "python3"
  },
  "language_info": {
   "codemirror_mode": {
    "name": "ipython",
    "version": 3
   },
   "file_extension": ".py",
   "mimetype": "text/x-python",
   "name": "python",
   "nbconvert_exporter": "python",
   "pygments_lexer": "ipython3",
   "version": "3.7.6"
  }
 },
 "nbformat": 4,
 "nbformat_minor": 4
}
