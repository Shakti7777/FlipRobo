{
 "cells": [
  {
   "cell_type": "markdown",
   "metadata": {},
   "source": [
    "# Importing required Modules and Libraries"
   ]
  },
  {
   "cell_type": "code",
   "execution_count": 118,
   "metadata": {},
   "outputs": [],
   "source": [
    "from nltk.corpus import stopwords\n",
    "from nltk.stem import WordNetLemmatizer\n",
    "from nltk.tokenize import word_tokenize\n",
    "import nltk\n",
    "import warnings\n",
    "warnings.filterwarnings('ignore')"
   ]
  },
  {
   "cell_type": "code",
   "execution_count": 119,
   "metadata": {},
   "outputs": [],
   "source": [
    "import string\n",
    "from collections import Counter\n",
    "import matplotlib.pyplot as plt"
   ]
  },
  {
   "cell_type": "markdown",
   "metadata": {},
   "source": [
    "# Retrieving Tweets BEFORE coronaOutbreak"
   ]
  },
  {
   "cell_type": "code",
   "execution_count": 120,
   "metadata": {},
   "outputs": [],
   "source": [
    "def get_tweets():\n",
    "    import GetOldTweets3 as got\n",
    "    tweetCriteria = got.manager.TweetCriteria().setQuerySearch('CoronaOutbreak') \\\n",
    "        .setSince(\"2020-02-01\") \\\n",
    "        .setUntil(\"2020-03-01\") \\\n",
    "        .setMaxTweets(1000)\n",
    "    # Creation of list that contains all tweets\n",
    "    tweets = got.manager.TweetManager.getTweets(tweetCriteria)\n",
    "    # Creating list of chosen tweet data\n",
    "    text_tweets = [[tweet.text] for tweet in tweets]\n",
    "    return text_tweets"
   ]
  },
  {
   "cell_type": "markdown",
   "metadata": {},
   "source": [
    "# Cleaning the text(tokenization/stopword removal/punctuations..)"
   ]
  },
  {
   "cell_type": "code",
   "execution_count": 121,
   "metadata": {},
   "outputs": [],
   "source": [
    "# reading text file\n",
    "text = \"\"\n",
    "text_tweets = get_tweets()\n",
    "length = len(text_tweets)\n",
    "\n",
    "for i in range(0, length):\n",
    "    text = text_tweets[i][0] + \" \" + text\n",
    "\n",
    "# converting to lowercase\n",
    "lower_case = text.lower()\n",
    "\n",
    "# Removing punctuations\n",
    "cleaned_text = lower_case.translate(str.maketrans('', '', string.punctuation))\n",
    "\n",
    "# splitting text into words\n",
    "tokenized_words =  word_tokenize(cleaned_text, \"english\")\n",
    "\n",
    "# Removing Stop Words\n",
    "final_words = []\n",
    "\n",
    "for word in tokenized_words:\n",
    "    if word not in stopwords.words('english'):\n",
    "        final_words.append(word)\n",
    "\n",
    "# Removing stop words from the tokenized words list\n",
    "final_words = [word for word in tokenized_words if word not in stop_words]"
   ]
  },
  {
   "cell_type": "markdown",
   "metadata": {},
   "source": [
    "# Emotion list for the above data"
   ]
  },
  {
   "cell_type": "code",
   "execution_count": 122,
   "metadata": {},
   "outputs": [
    {
     "name": "stdout",
     "output_type": "stream",
     "text": [
      "Counter({' happy': 4, ' attracted': 3, ' attached': 3, ' free': 2, ' safe': 1, ' fearless': 1, ' powerless': 1, ' sad': 1, ' esteemed': 1, ' anxious': 1, ' average': 1})\n"
     ]
    }
   ],
   "source": [
    "# Get emotions text\n",
    "emotion_list = []\n",
    "with open('emotions.txt', 'r') as file:\n",
    "    for line in file:\n",
    "        clear_line = line.replace('\\n', '').replace(',', '').replace(\"'\", '').strip()\n",
    "        word, emotion = clear_line.split(':')\n",
    "        if word in final_words:\n",
    "            emotion_list.append(emotion)\n",
    "\n",
    "w = Counter(emotion_list)\n",
    "print(w)"
   ]
  },
  {
   "cell_type": "markdown",
   "metadata": {},
   "source": [
    "# Emotional Words graph plotting"
   ]
  },
  {
   "cell_type": "code",
   "execution_count": 123,
   "metadata": {},
   "outputs": [
    {
     "data": {
      "image/png": "[encoded data removed]",
      "text/plain": [
       "<Figure size 432x288 with 1 Axes>"
      ]
     },
     "metadata": {
      "needs_background": "light"
     },
     "output_type": "display_data"
    }
   ],
   "source": [
    "fig, ax1 = plt.subplots()\n",
    "ax1.bar(w.keys(), w.values())\n",
    "fig.autofmt_xdate()\n",
    "plt.savefig('graph.png')\n",
    "plt.show()"
   ]
  },
  {
   "cell_type": "markdown",
   "metadata": {},
   "source": [
    "# Retrieving Tweets AFTER coronaOutbreak"
   ]
  },
  {
   "cell_type": "code",
   "execution_count": 128,
   "metadata": {},
   "outputs": [],
   "source": [
    "def get_tweets():\n",
    "    import GetOldTweets3 as got\n",
    "    tweetCriteria = got.manager.TweetCriteria().setQuerySearch('Coronavirus') \\\n",
    "        .setSince(\"2020-07-01\") \\\n",
    "        .setUntil(\"2020-08-01\") \\\n",
    "        .setMaxTweets(1000)\n",
    "    # Creation of list that contains all tweets\n",
    "    tweets= got.manager.TweetManager.getTweets(tweetCriteria)\n",
    "    # Creating list of chosen tweet data\n",
    "    text_tweets= [[tweet.text] for tweet in tweets]\n",
    "    return text_tweets"
   ]
  },
  {
   "cell_type": "markdown",
   "metadata": {},
   "source": [
    "# Cleaning the text(tokenization/stopword removal/punctuations..)"
   ]
  },
  {
   "cell_type": "code",
   "execution_count": 130,
   "metadata": {},
   "outputs": [],
   "source": [
    "# reading text file\n",
    "text = \"\"\n",
    "text_tweets = get_tweets()\n",
    "length= len(text_tweets)\n",
    "\n",
    "for i in range(0, length):\n",
    "    text = text_tweets[i][0] + \" \" + text\n",
    "\n",
    "# converting to lowercase\n",
    "lower_case= text.lower()\n",
    "\n",
    "# Removing punctuations\n",
    "cleaned_text = lower_case.translate(str.maketrans('', '', string.punctuation))\n",
    "\n",
    "# splitting text into words\n",
    "tokenized_words =word_tokenize(cleaned_text, \"english\")\n",
    "\n",
    "# Removing Stop Words\n",
    "final_words = []\n",
    "\n",
    "for word in tokenized_words:\n",
    "    if word not in stopwords.words('english'):\n",
    "        final_words.append(word)\n",
    "\n",
    "# Removing stop words from the tokenized words list\n",
    "final_words = [word for word in tokenized_words if word not in stop_words]"
   ]
  },
  {
   "cell_type": "markdown",
   "metadata": {},
   "source": [
    "# Emotion list for the above data"
   ]
  },
  {
   "cell_type": "code",
   "execution_count": 131,
   "metadata": {},
   "outputs": [
    {
     "name": "stdout",
     "output_type": "stream",
     "text": [
      "Counter({' happy': 9, ' sad': 8, ' embarrassed': 3, ' powerless': 3, ' free': 3, ' attracted': 2, ' adequate': 2, ' attached': 2, ' cheated': 1, ' surprise': 1, ' belittled': 1, ' fearful': 1, ' entitled': 1, ' lost': 1, ' angry': 1, ' lustful': 1, ' hated': 1, ' fearless': 1, ' esteemed': 1, ' independent': 1, ' anxious': 1})\n"
     ]
    }
   ],
   "source": [
    "# Get emotions text\n",
    "emotion_list = []\n",
    "with open('emotions.txt', 'r') as file:\n",
    "    for line in file:\n",
    "        clear_line = line.replace('\\n', '').replace(',', '').replace(\"'\", '').strip()\n",
    "        word, emotion = clear_line.split(':')\n",
    "        if word in final_words:\n",
    "            emotion_list.append(emotion)\n",
    "\n",
    "w = Counter(emotion_list)\n",
    "print(w)"
   ]
  },
  {
   "cell_type": "markdown",
   "metadata": {},
   "source": [
    "# Emotional Words graph plotting"
   ]
  },
  {
   "cell_type": "code",
   "execution_count": 132,
   "metadata": {},
   "outputs": [
    {
     "data": {
      "image/png": "[encoded data removed]",
      "text/plain": [
       "<Figure size 432x288 with 1 Axes>"
      ]
     },
     "metadata": {
      "needs_background": "light"
     },
     "output_type": "display_data"
    }
   ],
   "source": [
    "fig, ax1 = plt.subplots()\n",
    "ax1.bar(w.keys(), w.values())\n",
    "fig.autofmt_xdate()\n",
    "plt.savefig('graph1.png')\n",
    "plt.show()"
   ]
  },
  {
   "cell_type": "code",
   "execution_count": null,
   "metadata": {},
   "outputs": [],
   "source": []
  }
 ],
 "metadata": {
  "kernelspec": {
   "display_name": "Python 3",
   "language": "python",
   "name": "python3"
  },
  "language_info": {
   "codemirror_mode": {
    "name": "ipython",
    "version": 3
   },
   "file_extension": ".py",
   "mimetype": "text/x-python",
   "name": "python",
   "nbconvert_exporter": "python",
   "pygments_lexer": "ipython3",
   "version": "3.7.6"
  }
 },
 "nbformat": 4,
 "nbformat_minor": 4
}
